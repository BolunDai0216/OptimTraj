{
 "cells": [
  {
   "cell_type": "code",
   "execution_count": 1,
   "metadata": {},
   "outputs": [],
   "source": [
    "from fiveLinkBiped_model import FiveLinkBiped\n",
    "import numpy as np\n",
    "import matplotlib.pyplot as plt\n",
    "import tensorflow as tf"
   ]
  },
  {
   "cell_type": "code",
   "execution_count": 2,
   "metadata": {},
   "outputs": [],
   "source": [
    "# Load Matlab data\n",
    "qs = np.genfromtxt('five_link_biped_qs.csv', delimiter=',')\n",
    "dqs = np.genfromtxt('five_link_biped_dqs.csv', delimiter=',')\n",
    "us = np.genfromtxt('five_link_biped_controls.csv', delimiter=',')"
   ]
  },
  {
   "cell_type": "code",
   "execution_count": 3,
   "metadata": {},
   "outputs": [],
   "source": [
    "init_q = qs[:, 0][np.newaxis, np.newaxis, :]\n",
    "init_dq = dqs[:, 0][np.newaxis, np.newaxis, :]\n",
    "states = np.concatenate([init_q, init_dq], axis=2)\n",
    "states = np.concatenate([states, states], axis=0)\n",
    "states = tf.cast(states, dtype=tf.float32)"
   ]
  },
  {
   "cell_type": "code",
   "execution_count": 4,
   "metadata": {},
   "outputs": [],
   "source": [
    "biped = FiveLinkBiped()\n",
    "biped.batch_size = 2\n",
    "# biped.update_joint_n_com_pos(init_q)\n",
    "f = biped.get_drift(states)\n",
    "g = biped.get_control_influence(states)\n",
    "\n",
    "# have size [batch_size, 5, 1]\n",
    "A = biped.get_mass_torque()\n",
    "# have size [batch_size, 5, 5] and [batch_size, 5, 5]\n",
    "B, C = biped.get_angular_momentum_change()"
   ]
  },
  {
   "cell_type": "code",
   "execution_count": 25,
   "metadata": {},
   "outputs": [
    {
     "data": {
      "text/plain": [
       "(TensorShape([2, 1, 5]), TensorShape([2, 5, 5]))"
      ]
     },
     "execution_count": 25,
     "metadata": {},
     "output_type": "execute_result"
    }
   ],
   "source": [
    "f[0, :, :].T + g[0, :, :]"
   ]
  },
  {
   "cell_type": "code",
   "execution_count": 23,
   "metadata": {},
   "outputs": [
    {
     "data": {
      "text/plain": [
       "<tf.Tensor: shape=(5, 5), dtype=float32, numpy=\n",
       "array([[14.35995   , 13.280019  , 10.922801  ,  0.43159837,  0.8904679 ],\n",
       "       [ 7.3052    ,  8.28319   ,  7.5989056 ,  1.2991664 ,  1.0384225 ],\n",
       "       [ 2.3083723 ,  2.0212402 ,  4.8324995 ,  1.9364977 ,  1.1462572 ],\n",
       "       [-1.0155226 , -0.7451658 ,  0.        ,  1.9364977 ,  1.1462572 ],\n",
       "       [-0.14795452, -0.10783472,  0.        ,  0.16382836,  0.9824288 ]],\n",
       "      dtype=float32)>"
      ]
     },
     "execution_count": 23,
     "metadata": {},
     "output_type": "execute_result"
    }
   ],
   "source": [
    "C[0, :, :]"
   ]
  },
  {
   "cell_type": "code",
   "execution_count": 7,
   "metadata": {},
   "outputs": [
    {
     "name": "stdout",
     "output_type": "stream",
     "text": [
      "tf.Tensor(\n",
      "[[ 0.      0.     75.1764]\n",
      " [ 0.      0.     75.1764]], shape=(2, 3), dtype=float32)\n",
      "tf.Tensor(\n",
      "[[ 0.        0.       62.133152]\n",
      " [ 0.        0.       62.133152]], shape=(2, 3), dtype=float32)\n",
      "tf.Tensor(\n",
      "[[ 0.         0.        -1.1567559]\n",
      " [ 0.         0.        -1.1567559]], shape=(2, 3), dtype=float32)\n",
      "tf.Tensor(\n",
      "[[0.       0.       9.371138]\n",
      " [0.       0.       9.371138]], shape=(2, 3), dtype=float32)\n",
      "tf.Tensor(\n",
      "[[0.       0.       1.410268]\n",
      " [0.       0.       1.410268]], shape=(2, 3), dtype=float32)\n"
     ]
    }
   ],
   "source": [
    "mass_list = [\n",
    "            biped.m1, biped.m2, biped.m3, biped.m4, biped.m5\n",
    "]\n",
    "com_list = [\n",
    "    biped.g1, biped.g2, biped.g3, biped.g4, biped.g5\n",
    "]\n",
    "joint_list = [\n",
    "    biped.p0, biped.p1, biped.p2, biped.p2, biped.p4\n",
    "]\n",
    "\n",
    "_j_vec = tf.constant([[0., 1., 0.]])\n",
    "# have size [batch_size, 3]\n",
    "j_vec = tf.tile(_j_vec, [2, 1])\n",
    "\n",
    "mass_torque_mat = tf.zeros([2, 0])\n",
    "for j in range(5):\n",
    "    # have size [batch_size, 3]\n",
    "    mass_torque = tf.zeros_like(j_vec)\n",
    "    for i in range(j, 5):\n",
    "        # have size [batch_size, 3]\n",
    "        com2point = tf.squeeze(com_list[i] - joint_list[j])\n",
    "        weight_vec = -mass_list[i] * 9.81 * j_vec\n",
    "        # have size [batch_size, 3]\n",
    "        mass_torque += tf.linalg.cross(com2point, weight_vec)\n",
    "\n",
    "    print(mass_torque)\n",
    "    # Has shape [batch_size, j+1]\n",
    "    mass_torque_mat = tf.concat(\n",
    "        [mass_torque_mat, mass_torque[:, 2:]], 1)"
   ]
  },
  {
   "cell_type": "code",
   "execution_count": 5,
   "metadata": {},
   "outputs": [
    {
     "data": {
      "text/plain": [
       "<tf.Tensor: shape=(5, 5), dtype=float32, numpy=\n",
       "array([[14.35995   , 13.280019  , 10.792118  ,  0.52274895,  0.93      ],\n",
       "       [ 7.3052    ,  8.28319   ,  7.933173  ,  1.0733213 ,  0.93      ],\n",
       "       [ 2.3083723 ,  2.0212402 ,  5.5083275 ,  1.4769263 ,  0.93      ],\n",
       "       [-3.4595628 , -2.779288  ,  1.4565328 ,  2.4021082 ,  0.93      ],\n",
       "       [-0.14795452, -0.10783472,  0.16382836,  0.05242881,  0.93      ]],\n",
       "      dtype=float32)>"
      ]
     },
     "execution_count": 5,
     "metadata": {},
     "output_type": "execute_result"
    }
   ],
   "source": [
    "C[0, :, :]"
   ]
  },
  {
   "cell_type": "code",
   "execution_count": 14,
   "metadata": {},
   "outputs": [
    {
     "data": {
      "text/plain": [
       "array([[-1.50054228],\n",
       "       [-0.61150594],\n",
       "       [ 0.01605327],\n",
       "       [-0.55071748],\n",
       "       [-2.00958026]])"
      ]
     },
     "execution_count": 14,
     "metadata": {},
     "output_type": "execute_result"
    }
   ],
   "source": [
    "# init_dq[0, :, :].T\n",
    "# us[:, :1]\n",
    "init_dq[0, :, :].T"
   ]
  },
  {
   "cell_type": "code",
   "execution_count": 22,
   "metadata": {},
   "outputs": [
    {
     "data": {
      "text/plain": [
       "array([[73.20603665],\n",
       "       [35.2387927 ],\n",
       "       [50.01959988],\n",
       "       [12.02737143],\n",
       "       [16.00558675]])"
      ]
     },
     "execution_count": 22,
     "metadata": {},
     "output_type": "execute_result"
    }
   ],
   "source": [
    "# A[0, :, :].numpy() + us[:, :1]\n",
    "# A[0, :, :].numpy() - B[0, :, :].numpy() @ (init_dq[0, :, :].T)**2 + us[:, :1]\n",
    "# B[0, :, :].numpy() @ np.array([[2.0], [3.0], [5.0], [4.0], [8.0]]) ** 2"
   ]
  },
  {
   "cell_type": "code",
   "execution_count": 21,
   "metadata": {},
   "outputs": [
    {
     "data": {
      "text/plain": [
       "<tf.Tensor: shape=(1, 3), dtype=float32, numpy=array([[ 0.      , -0.      ,  1.410268]], dtype=float32)>"
      ]
     },
     "execution_count": 21,
     "metadata": {},
     "output_type": "execute_result"
    }
   ],
   "source": [
    "gp = (biped.g5[0, :, :] - biped.p4[0, :, :])\n",
    "mg = -biped.m5 * 9.81 * tf.constant([[0.0], [1.0], [0.0]], dtype=tf.float32)\n",
    "\n",
    "gp = tf.transpose(gp, perm=[1, 0])\n",
    "mg = tf.transpose(mg, perm=[1, 0])\n",
    "\n",
    "tf.linalg.cross(gp, mg)"
   ]
  },
  {
   "cell_type": "code",
   "execution_count": 25,
   "metadata": {},
   "outputs": [
    {
     "data": {
      "text/plain": [
       "<tf.Tensor: shape=(1, 3), dtype=float32, numpy=array([[ 0.      , -0.      ,  9.371138]], dtype=float32)>"
      ]
     },
     "execution_count": 25,
     "metadata": {},
     "output_type": "execute_result"
    }
   ],
   "source": [
    "gp1 = (biped.g5[0, :, :] - biped.p2[0, :, :])\n",
    "mg1 = -biped.m5 * 9.81 * tf.constant([[0.0], [1.0], [0.0]], dtype=tf.float32)\n",
    "\n",
    "gp1 = tf.transpose(gp1, perm=[1, 0])\n",
    "mg1 = tf.transpose(mg1, perm=[1, 0])\n",
    "\n",
    "cr1 = tf.linalg.cross(gp1, mg1)\n",
    "\n",
    "gp1 = (biped.g4[0, :, :] - biped.p2[0, :, :])\n",
    "mg1 = -biped.m4 * 9.81 * tf.constant([[0.0], [1.0], [0.0]], dtype=tf.float32)\n",
    "\n",
    "gp1 = tf.transpose(gp1, perm=[1, 0])\n",
    "mg1 = tf.transpose(mg1, perm=[1, 0])\n",
    "\n",
    "cr2 = tf.linalg.cross(gp1, mg1)\n",
    "\n",
    "cr1 + cr2"
   ]
  },
  {
   "cell_type": "code",
   "execution_count": 35,
   "metadata": {},
   "outputs": [
    {
     "data": {
      "text/plain": [
       "TensorShape([2, 1, 5])"
      ]
     },
     "execution_count": 35,
     "metadata": {},
     "output_type": "execute_result"
    }
   ],
   "source": [
    "controls = us[:, 0][np.newaxis, np.newaxis, :]\n",
    "controls = np.concatenate([controls, controls], axis=0)\n",
    "controls = tf.cast(controls, dtype=tf.float32)\n",
    "controls"
   ]
  },
  {
   "cell_type": "code",
   "execution_count": 58,
   "metadata": {},
   "outputs": [
    {
     "data": {
      "text/plain": [
       "<tf.Tensor: shape=(2, 1, 5), dtype=float32, numpy=\n",
       "array([[[ 13.990587 , -16.476906 ,   7.045702 ,  -2.0493584,\n",
       "          16.399292 ]],\n",
       "\n",
       "       [[ 13.990587 , -16.476906 ,   7.045702 ,  -2.0493584,\n",
       "          16.399292 ]]], dtype=float32)>"
      ]
     },
     "execution_count": 58,
     "metadata": {},
     "output_type": "execute_result"
    }
   ],
   "source": [
    "gu = g @ tf.transpose(controls, perm=[0, 2, 1])\n",
    "dx = f + tf.transpose(gu, perm=[0, 2, 1])\n",
    "dx"
   ]
  },
  {
   "cell_type": "code",
   "execution_count": 45,
   "metadata": {},
   "outputs": [],
   "source": [
    "d_x = tf.concat([states[:, :, 5:], dx], axis=2)\n",
    "\n",
    "states += d_x * 0.02"
   ]
  },
  {
   "cell_type": "code",
   "execution_count": 48,
   "metadata": {},
   "outputs": [],
   "source": [
    "biped.update_joint_n_com_pos(states[:, :, :5])"
   ]
  },
  {
   "cell_type": "code",
   "execution_count": 50,
   "metadata": {},
   "outputs": [],
   "source": [
    "n = 1\n",
    "joints = [biped.p0, biped.p1, biped.p2, biped.p3, biped.p4, biped.p5]\n",
    "joint_plot = np.zeros((3, 7))\n",
    "for i, num in enumerate([0, 1, 2, 3, 2, 4, 5]):\n",
    "    joint_plot[:, i] = joints[num][n, :, :].numpy()[:, 0]"
   ]
  },
  {
   "cell_type": "code",
   "execution_count": 51,
   "metadata": {},
   "outputs": [
    {
     "data": {
      "text/plain": [
       "(-0.5, 2.0)"
      ]
     },
     "execution_count": 51,
     "metadata": {},
     "output_type": "execute_result"
    },
    {
     "data": {
      "image/png": "[encoded data removed]",
      "text/plain": [
       "<Figure size 432x288 with 1 Axes>"
      ]
     },
     "metadata": {
      "needs_background": "light"
     },
     "output_type": "display_data"
    }
   ],
   "source": [
    "plt.figure()\n",
    "plt.plot(joint_plot[0, :], joint_plot[1, :])\n",
    "plt.gca().set_aspect('equal')\n",
    "plt.xlim([-1, 6])\n",
    "plt.ylim([-0.5, 2])"
   ]
  },
  {
   "cell_type": "code",
   "execution_count": 54,
   "metadata": {},
   "outputs": [
    {
     "data": {
      "text/plain": [
       "(array([[[ 0.08538608,  0.49380067, -0.12659436, -0.34667185,\n",
       "          -0.3586091 ]]]),\n",
       " array([[[-1.50054228, -0.61150594,  0.01605327, -0.55071748,\n",
       "          -2.00958026]]]))"
      ]
     },
     "execution_count": 54,
     "metadata": {},
     "output_type": "execute_result"
    }
   ],
   "source": [
    "init_q, init_dq"
   ]
  },
  {
   "cell_type": "code",
   "execution_count": 57,
   "metadata": {},
   "outputs": [
    {
     "data": {
      "text/plain": [
       "array([  0.        , -23.71004274,  50.2053136 ,   4.03502113,\n",
       "        14.79931518])"
      ]
     },
     "execution_count": 57,
     "metadata": {},
     "output_type": "execute_result"
    }
   ],
   "source": [
    "us[:, 0]"
   ]
  },
  {
   "cell_type": "code",
   "execution_count": null,
   "metadata": {},
   "outputs": [],
   "source": []
  }
 ],
 "metadata": {
  "kernelspec": {
   "display_name": "Python 3",
   "language": "python",
   "name": "python3"
  },
  "language_info": {
   "codemirror_mode": {
    "name": "ipython",
    "version": 3
   },
   "file_extension": ".py",
   "mimetype": "text/x-python",
   "name": "python",
   "nbconvert_exporter": "python",
   "pygments_lexer": "ipython3",
   "version": "3.7.0"
  },
  "latex_envs": {
   "LaTeX_envs_menu_present": true,
   "autoclose": true,
   "autocomplete": true,
   "bibliofile": "biblio.bib",
   "cite_by": "apalike",
   "current_citInitial": 1,
   "eqLabelWithNumbers": true,
   "eqNumInitial": 1,
   "hotkeys": {
    "equation": "Ctrl-E",
    "itemize": "Ctrl-I"
   },
   "labels_anchors": false,
   "latex_user_defs": false,
   "report_style_numbering": false,
   "user_envs_cfg": false
  }
 },
 "nbformat": 4,
 "nbformat_minor": 2
}
